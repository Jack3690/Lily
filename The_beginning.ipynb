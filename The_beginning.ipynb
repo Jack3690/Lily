{
 "cells": [
  {
   "cell_type": "code",
   "execution_count": 1,
   "metadata": {
    "id": "pwsuWluDWO8Z"
   },
   "outputs": [],
   "source": [
    "import matplotlib.pyplot as plt\n",
    "from ipywidgets import widgets\n",
    "import numpy as np\n",
    "\n",
    "%matplotlib inline"
   ]
  },
  {
   "cell_type": "markdown",
   "metadata": {},
   "source": [
    "# **Welcome to the Labyrinth**"
   ]
  },
  {
   "cell_type": "code",
   "execution_count": 36,
   "metadata": {},
   "outputs": [
    {
     "data": {
      "application/vnd.jupyter.widget-view+json": {
       "model_id": "a99245746cdc46e48ffb13d1cb24c455",
       "version_major": 2,
       "version_minor": 0
      },
      "text/plain": [
       "Label(value='Choose difficulty')"
      ]
     },
     "metadata": {},
     "output_type": "display_data"
    },
    {
     "data": {
      "application/vnd.jupyter.widget-view+json": {
       "model_id": "54132fc1e06b425e8fa6804d3fb1c386",
       "version_major": 2,
       "version_minor": 0
      },
      "text/plain": [
       "Dropdown(options=('Easy', 'Medium', 'Hard'), value='Easy')"
      ]
     },
     "metadata": {},
     "output_type": "display_data"
    },
    {
     "data": {
      "application/vnd.jupyter.widget-view+json": {
       "model_id": "4d2276b2dacf4d88abefc553cdb8dd07",
       "version_major": 2,
       "version_minor": 0
      },
      "text/plain": [
       "Button(description='Enter', style=ButtonStyle())"
      ]
     },
     "metadata": {},
     "output_type": "display_data"
    },
    {
     "data": {
      "application/vnd.jupyter.widget-view+json": {
       "model_id": "39f7bf78f18547a0a59da19b32d2c072",
       "version_major": 2,
       "version_minor": 0
      },
      "text/plain": [
       "Output()"
      ]
     },
     "metadata": {},
     "output_type": "display_data"
    }
   ],
   "source": [
    "check = []\n",
    "l1 = widgets.Label(\"Choose difficulty\")\n",
    "display(l1)\n",
    "\n",
    "filter_name = widgets.Dropdown(\n",
    "    options=['Easy', 'Medium', 'Hard'],\n",
    "    value='Easy')\n",
    "display(filter_name)\n",
    "\n",
    "btn=widgets.Button(description=\"Enter\")\n",
    "display(btn)\n",
    "\n",
    "btn2=widgets.Button(description=\"Try key\")\n",
    "\n",
    "output = widgets.Output()\n",
    "\n",
    "@output.capture(clear_output=True,wait=True)\n",
    "\n",
    "def submit(b):\n",
    "    \n",
    "    if 'Easy' in check and 'Medium' in check and 'Hard' in check:\n",
    "        print(\"Yes, it's an illusion of choice. He he!\")\n",
    "    plt.figure(figsize = (30,10))\n",
    "    img = plt.imread('Crossword.png')\n",
    "    plt.imshow(img)\n",
    "    plt.axis('off')\n",
    "    plt.title('╟    ╩ ═ ╘ ├    ╫ ═ ╙',fontsize=20)\n",
    "    plt.show()\n",
    "    \n",
    "    l2 = widgets.Label(\"Key\")\n",
    "    display(l2)\n",
    "    global key\n",
    "    key =widgets.Text()\n",
    "    display(key)\n",
    "    \n",
    "    display(btn2)\n",
    "    \n",
    "\n",
    "@output.capture(clear_output=True,wait=True)\n",
    "    \n",
    "def submit2(b):\n",
    "    \n",
    "    if len(key.value)!=10:\n",
    "        l2 = widgets.Label(\"It's a 10 letter word! Try again!\")\n",
    "        display(l2)\n",
    "    else:\n",
    "        p0 = np.array([i for i in \"1ududLdd6iAieizcBcPc3nnnvB3ajaXaoaHrFryr5yUVfUjPtLrPrrW3IGvEvqp4wh4d\"])\n",
    "        \n",
    "        \n",
    "        k0 = np.array([i for i in key.value.lower()])\n",
    "        global k1\n",
    "        k1  = k0[[0,1,2,4,6,7,8,]]\n",
    "        \n",
    "        global p1\n",
    "        p1 = []\n",
    "        for i in p0:\n",
    "            if i not in k1:\n",
    "                p1.append(i)\n",
    "        global p2\n",
    "        \n",
    "        p2 = ''\n",
    "        for i in p1:\n",
    "            p2+=i\n",
    "        \n",
    "        h = widgets.HTML(value = f\"<a href=https://docs.google.com/document/d/{p2}/edit><font color = 'blue'>Click the link to try the key: '{key.value}'. Only the verbose shall pass!</a>\") \n",
    "        display(h)\n",
    "    \n",
    "btn.on_click(submit)\n",
    "\n",
    "btn2.on_click(submit2)\n",
    "\n",
    "output"
   ]
  },
  {
   "cell_type": "code",
   "execution_count": null,
   "metadata": {},
   "outputs": [],
   "source": []
  }
 ],
 "metadata": {
  "colab": {
   "authorship_tag": "ABX9TyN/flvzfY3LyNNNM8EUDinE",
   "include_colab_link": true,
   "name": "The_beginning.ipynb",
   "provenance": []
  },
  "kernelspec": {
   "display_name": "Python 3 (ipykernel)",
   "language": "python",
   "name": "python3"
  },
  "language_info": {
   "codemirror_mode": {
    "name": "ipython",
    "version": 3
   },
   "file_extension": ".py",
   "mimetype": "text/x-python",
   "name": "python",
   "nbconvert_exporter": "python",
   "pygments_lexer": "ipython3",
   "version": "3.7.12"
  }
 },
 "nbformat": 4,
 "nbformat_minor": 4
}
