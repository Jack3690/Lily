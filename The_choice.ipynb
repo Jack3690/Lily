{
 "cells": [
  {
   "cell_type": "code",
   "execution_count": 3,
   "metadata": {
    "id": "pwsuWluDWO8Z"
   },
   "outputs": [],
   "source": [
    "import matplotlib.pyplot as plt\n",
    "from ipywidgets import widgets\n",
    "import numpy as np\n",
    "\n",
    "%matplotlib inline"
   ]
  },
  {
   "cell_type": "markdown",
   "metadata": {},
   "source": [
    "# **The Choice**"
   ]
  },
  {
   "cell_type": "code",
   "execution_count": 87,
   "metadata": {},
   "outputs": [
    {
     "data": {
      "application/vnd.jupyter.widget-view+json": {
       "model_id": "83ebaf9b9f8c4ea8b725fd4a962c97a2",
       "version_major": 2,
       "version_minor": 0
      },
      "text/plain": [
       "Label(value='The Labyrinth key :')"
      ]
     },
     "metadata": {},
     "output_type": "display_data"
    },
    {
     "data": {
      "application/vnd.jupyter.widget-view+json": {
       "model_id": "16abfd572ac34bceabf58f56456ca39f",
       "version_major": 2,
       "version_minor": 0
      },
      "text/plain": [
       "Text(value='')"
      ]
     },
     "metadata": {},
     "output_type": "display_data"
    },
    {
     "data": {
      "application/vnd.jupyter.widget-view+json": {
       "model_id": "670a80ac086e4498affe12bb5d2d1ff5",
       "version_major": 2,
       "version_minor": 0
      },
      "text/plain": [
       "Label(value='The key you chose :')"
      ]
     },
     "metadata": {},
     "output_type": "display_data"
    },
    {
     "data": {
      "application/vnd.jupyter.widget-view+json": {
       "model_id": "1662f6888ba04101a86140bd7a7d587a",
       "version_major": 2,
       "version_minor": 0
      },
      "text/plain": [
       "Text(value='')"
      ]
     },
     "metadata": {},
     "output_type": "display_data"
    },
    {
     "data": {
      "application/vnd.jupyter.widget-view+json": {
       "model_id": "58ea28caab6b468ca181cd1995da5230",
       "version_major": 2,
       "version_minor": 0
      },
      "text/plain": [
       "Button(description='Enter', style=ButtonStyle())"
      ]
     },
     "metadata": {},
     "output_type": "display_data"
    },
    {
     "data": {
      "application/vnd.jupyter.widget-view+json": {
       "model_id": "40903d7672784714b10fa363e8c73c5e",
       "version_major": 2,
       "version_minor": 0
      },
      "text/plain": [
       "Output()"
      ]
     },
     "metadata": {},
     "output_type": "display_data"
    }
   ],
   "source": [
    "l1= widgets.Label(\"The Labyrinth key :\")\n",
    "display(l1)\n",
    "key = widgets.Text()\n",
    "display(key)\n",
    "\n",
    "l2= widgets.Label(\"The key you chose :\")\n",
    "display(l2)\n",
    "keycode = widgets.Text()\n",
    "display(keycode)\n",
    "\n",
    "btn=widgets.Button(description=\"Enter\")\n",
    "display(btn)\n",
    "\n",
    "output = widgets.Output()\n",
    "\n",
    "@output.capture(clear_output=True,wait=True)\n",
    "\n",
    "def submit(b):\n",
    "    if len(key.value)==10 and key.value.isalpha()==True :\n",
    "        \n",
    "        if len(keycode.value)==5 and keycode.value.isnumeric()==True:\n",
    "            k1 = np.array([i for i in key.value.lower()])\n",
    "            k2 = np.array([int(i) for i in keycode.value])\n",
    "\n",
    "            global k12\n",
    "            k12 = k1[k2][:3]\n",
    "            W = ord(k12[0])/33\n",
    "            S = ord(k12[1])/20\n",
    "            V = ord(k12[2])/3-35\n",
    "\n",
    "            l2 = widgets.HTML(\"<h style=\\\"font-size:2vw\\\"><b>If you chose right, you shall find your answer at the<i> Library of Babel</i></b></h>\")\n",
    "            display(l2)\n",
    "\n",
    "            l2 = widgets.HTML(f\"<h>You shall find what you seek in page <b>234</b> of Volume <b>{int(V)}</b> in shelf <b>{int(S)}</b> on the wall <b>{int(W)}</b></h>\")\n",
    "            display(l2)\n",
    "\n",
    "            l2 = widgets.HTML(\"<h>You also need the <b>Hex</b> below for you to Browse</h>\")\n",
    "            display(l2)\n",
    "\n",
    "            hex = '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'\n",
    "            l3  = widgets.Label(hex)\n",
    "            display(hex)\n",
    "\n",
    "            plt.figure(figsize=(5,5))\n",
    "            img = plt.imread('perks.png')\n",
    "            plt.imshow(img)\n",
    "\n",
    "            plt.title('╦ ═ ╨ ├   ╥ ╞ ┐ ╠   ╥ ╞ ├', fontsize = 15)\n",
    "            plt.axis('off')\n",
    "            plt.show()\n",
    "            \n",
    "        else:  \n",
    "            l2 = widgets.Label(\"The key you chose is a 5 digit number! Try again!\")\n",
    "            display(l2)         \n",
    "    else:\n",
    "        l2 = widgets.Label(\"Labyrinth key is the 10 letter word! Try again!\")\n",
    "        display(l2)\n",
    "        \n",
    "        \n",
    "        \n",
    "\n",
    "btn.on_click(submit)\n",
    "\n",
    "output"
   ]
  },
  {
   "cell_type": "code",
   "execution_count": null,
   "metadata": {},
   "outputs": [],
   "source": []
  }
 ],
 "metadata": {
  "colab": {
   "authorship_tag": "ABX9TyN/flvzfY3LyNNNM8EUDinE",
   "include_colab_link": true,
   "name": "The_beginning.ipynb",
   "provenance": []
  },
  "kernelspec": {
   "display_name": "Python 3 (ipykernel)",
   "language": "python",
   "name": "python3"
  },
  "language_info": {
   "codemirror_mode": {
    "name": "ipython",
    "version": 3
   },
   "file_extension": ".py",
   "mimetype": "text/x-python",
   "name": "python",
   "nbconvert_exporter": "python",
   "pygments_lexer": "ipython3",
   "version": "3.7.12"
  }
 },
 "nbformat": 4,
 "nbformat_minor": 4
}
