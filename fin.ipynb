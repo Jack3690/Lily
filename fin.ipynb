{
 "cells": [
  {
   "cell_type": "code",
   "execution_count": 1,
   "metadata": {
    "id": "pwsuWluDWO8Z"
   },
   "outputs": [],
   "source": [
    "import matplotlib.pyplot as plt\n",
    "from ipywidgets import widgets\n",
    "import numpy as np\n",
    "\n",
    "%matplotlib inline"
   ]
  },
  {
   "cell_type": "markdown",
   "metadata": {},
   "source": [
    "# **The end**"
   ]
  },
  {
   "cell_type": "code",
   "execution_count": 52,
   "metadata": {},
   "outputs": [
    {
     "data": {
      "application/vnd.jupyter.widget-view+json": {
       "model_id": "db406725360f484d9627b90b0ca70fca",
       "version_major": 2,
       "version_minor": 0
      },
      "text/plain": [
       "Label(value='The Labyrinth key :')"
      ]
     },
     "metadata": {},
     "output_type": "display_data"
    },
    {
     "data": {
      "application/vnd.jupyter.widget-view+json": {
       "model_id": "76b3ff4d41424b36a329bb4da1fbb40f",
       "version_major": 2,
       "version_minor": 0
      },
      "text/plain": [
       "Text(value='')"
      ]
     },
     "metadata": {},
     "output_type": "display_data"
    },
    {
     "data": {
      "application/vnd.jupyter.widget-view+json": {
       "model_id": "46d6a1f3a37144a9a3ef463fe43af437",
       "version_major": 2,
       "version_minor": 0
      },
      "text/plain": [
       "Label(value='The key you chose :')"
      ]
     },
     "metadata": {},
     "output_type": "display_data"
    },
    {
     "data": {
      "application/vnd.jupyter.widget-view+json": {
       "model_id": "b823d89110054b5da0d0d3031eba0e2c",
       "version_major": 2,
       "version_minor": 0
      },
      "text/plain": [
       "Text(value='')"
      ]
     },
     "metadata": {},
     "output_type": "display_data"
    },
    {
     "data": {
      "application/vnd.jupyter.widget-view+json": {
       "model_id": "e3e45d23be9d4a81bd9395fa6a103c4f",
       "version_major": 2,
       "version_minor": 0
      },
      "text/plain": [
       "Label(value='The pass phrase you found :')"
      ]
     },
     "metadata": {},
     "output_type": "display_data"
    },
    {
     "data": {
      "application/vnd.jupyter.widget-view+json": {
       "model_id": "4efcbcef1ed4432e944e9a161f6816ad",
       "version_major": 2,
       "version_minor": 0
      },
      "text/plain": [
       "Text(value='')"
      ]
     },
     "metadata": {},
     "output_type": "display_data"
    },
    {
     "data": {
      "application/vnd.jupyter.widget-view+json": {
       "model_id": "5a7b0e42c1ba49dcb5da7d627c3c5e9a",
       "version_major": 2,
       "version_minor": 0
      },
      "text/plain": [
       "Button(description='Enter', style=ButtonStyle())"
      ]
     },
     "metadata": {},
     "output_type": "display_data"
    },
    {
     "data": {
      "application/vnd.jupyter.widget-view+json": {
       "model_id": "632c1e5ca337417b8a6e74942b5b5b7b",
       "version_major": 2,
       "version_minor": 0
      },
      "text/plain": [
       "Output()"
      ]
     },
     "metadata": {},
     "output_type": "display_data"
    }
   ],
   "source": [
    "l1= widgets.Label(\"The Labyrinth key :\")\n",
    "display(l1)\n",
    "key = widgets.Text()\n",
    "display(key)\n",
    "\n",
    "l2= widgets.Label(\"The key you chose :\")\n",
    "display(l2)\n",
    "keycode = widgets.Text()\n",
    "display(keycode)\n",
    "\n",
    "l3 = widgets.Label(\"The pass phrase you found :\")\n",
    "display(l3)\n",
    "phrase = widgets.Text()\n",
    "display(phrase)\n",
    "\n",
    "btn=widgets.Button(description=\"Enter\")\n",
    "display(btn)\n",
    "\n",
    "output = widgets.Output()\n",
    "\n",
    "@output.capture(clear_output=True,wait=True)\n",
    "\n",
    "def submit(b):\n",
    "    if len(key.value)==10 and key.value.isalpha()==True :\n",
    "        \n",
    "        if len(keycode.value)==5 and keycode.value.isnumeric()==True:\n",
    "                      \n",
    "            if len(phrase.value.split())== 20 and np.all([i.isalpha() for i in phrase.value.split()])==True :\n",
    "\n",
    "                k1 = np.array([i for i in key.value])\n",
    "                k2 = np.array([int(i) for i in keycode.value])\n",
    "                global k12\n",
    "                k12 = k1[k2][:3]\n",
    "                \n",
    "                W = int(ord(k12[0])/33)\n",
    "                S = int(ord(k12[1])/20)\n",
    "                V = int(ord(k12[2])/3-35)\n",
    "            \n",
    "                k3 = np.array(phrase.value.split())[[W,S,V]]\n",
    "                \n",
    "                k30 = 0\n",
    "                for i in k3[0]:\n",
    "                    k30+= ord(i.lower())\n",
    "\n",
    "                k31 = 0\n",
    "                for i in k3[1]:\n",
    "                    k31+= ord(i.lower())\n",
    "\n",
    "                k32 = 0\n",
    "                for i in k3[2]:\n",
    "                    k32+= ord(i.lower())\n",
    "                \n",
    "                lat = (0.6810620929090819)*k31 - k30 + 3.552713678800501e-14\n",
    "                \n",
    "                \n",
    "                lon = (3.27552530147265)*k32 - k31 + 1.4210854715202004e-14\n",
    "                \n",
    "                fin = widgets.HTML(f\"<a href = 'https://maps.google.com/?q={lat},{lon}'><font color = 'blue'>Go here to escape the Labyrinth. </a>\")\n",
    "                display(fin)\n",
    "                \n",
    "                l5 = widgets.Label(\"Fin. ╤ ╙ ╦   ═ ─   ╫ ═ ╙\")\n",
    "                display(l5)\n",
    "            else:\n",
    "                l2 = widgets.Label(\"The pass phrase has 20 words with no other special characters\")\n",
    "                display(l2)  \n",
    "        else:  \n",
    "            l2 = widgets.Label(\"The key you chose is a 5 digit number! Try again!\")\n",
    "            display(l2)         \n",
    "    else:\n",
    "        l2 = widgets.Label(\"Labyrinth key is the 10 letter word! Try again!\")\n",
    "        display(l2)      \n",
    "\n",
    "btn.on_click(submit)\n",
    "\n",
    "output"
   ]
  },
  {
   "cell_type": "code",
   "execution_count": null,
   "metadata": {},
   "outputs": [],
   "source": []
  }
 ],
 "metadata": {
  "colab": {
   "authorship_tag": "ABX9TyN/flvzfY3LyNNNM8EUDinE",
   "include_colab_link": true,
   "name": "The_beginning.ipynb",
   "provenance": []
  },
  "kernelspec": {
   "display_name": "Python 3 (ipykernel)",
   "language": "python",
   "name": "python3"
  },
  "language_info": {
   "codemirror_mode": {
    "name": "ipython",
    "version": 3
   },
   "file_extension": ".py",
   "mimetype": "text/x-python",
   "name": "python",
   "nbconvert_exporter": "python",
   "pygments_lexer": "ipython3",
   "version": "3.7.12"
  }
 },
 "nbformat": 4,
 "nbformat_minor": 4
}
